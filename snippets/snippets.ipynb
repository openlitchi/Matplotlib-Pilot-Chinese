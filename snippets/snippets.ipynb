{
 "cells": [
  {
   "cell_type": "code",
   "execution_count": 1,
   "metadata": {},
   "outputs": [],
   "source": [
    "# {\"name\": \"导入包\", \"title\": \"导入matplotlib\"} \n",
    "import matplotlib.pyplot as plt \n",
    "import numpy as np\n",
    "\n",
    "# 设置刻度方向向内，默认朝外-out\n",
    "plt.rcParams['xtick.direction'] = 'in'\n",
    "plt.rcParams['ytick.direction'] = 'in'\n"
   ]
  },
  {
   "cell_type": "code",
   "execution_count": 3,
   "metadata": {},
   "outputs": [],
   "source": [
    "# {\"name\": \"字体\", \"title\": \"配置本地字体\"} \n",
    "from matplotlib import font_manager\n",
    "\n",
    "font_path = 'C:\\\\Windows\\\\Fonts\\\\Times.ttf' # 此处为字体的路径\n",
    "font_manager.fontManager.addfont(font_path)\n",
    "prop = font_manager.FontProperties(fname=font_path)\n",
    "\n",
    "plt.rcParams['font.family'] = prop.get_name()\n",
    "plt.rcParams['mathtext.fontset'] = 'stix' # 'stix' | 'cm'\n",
    "plt.rcParams['font.size'] = 10\n"
   ]
  },
  {
   "cell_type": "markdown",
   "metadata": {},
   "source": [
    "## 加载数据"
   ]
  },
  {
   "cell_type": "code",
   "execution_count": null,
   "metadata": {},
   "outputs": [],
   "source": [
    "# {\"name\": \"CSV | TXT\", \"title\": \"加载文本数据\"} \n",
    "# fname: 文件名\n",
    "# dtype: 数据类型， float | int \n",
    "# skiprows: 跳过文件开头几行\n",
    "# delimiter: 文件中每行各数据的分隔符， ',' | ' '\n",
    "data = np.loadtxt(fname=r'./data.csv', dtype=float, skiprows=1, delimiter=',')\n"
   ]
  },
  {
   "cell_type": "code",
   "execution_count": null,
   "metadata": {},
   "outputs": [],
   "source": [
    "# {\"name\": \"NumPy\", \"title\": \"加载NPY数据\"} \n",
    "data = np.load(file=r'./data.npy')\n"
   ]
  },
  {
   "cell_type": "markdown",
   "metadata": {},
   "source": [
    "## 绘图"
   ]
  },
  {
   "cell_type": "code",
   "execution_count": null,
   "metadata": {},
   "outputs": [],
   "source": [
    "# {\"name\": \"折线\", \"title\": \"创建折线图\"} \n",
    "fig, ax = plt.subplots(figsize=(3.5, 3))\n",
    "\n",
    "_ = ax.plot(x, y, 'rs-', label='label')\n",
    "_ = ax.legend(frameon=False, loc=0, title='')\n",
    "\n",
    "ax.set_xlabel(\"x/unit\")\n",
    "ax.set_ylabel(\"y/unit\")\n"
   ]
  },
  {
   "cell_type": "code",
   "execution_count": null,
   "metadata": {},
   "outputs": [],
   "source": [
    "# {\"name\": \"柱状\", \"title\": \"创建柱状图、条形图\"} \n",
    "fig, ax = plt.subplots(figsize=(3.5, 3))\n",
    "\n",
    "# bar_labels是一个字符串列表，bar_values是一个与bar_labels等长的数字列表\n",
    "bars = ax.bar(bar_labels, bar_values, color='salmon')\n",
    "\n",
    "# 为条形添加数字标签\n",
    "ax.bar_label(bars, padding=3)\n",
    "\n",
    "ax.set_xlabel(\"x/unit\")\n",
    "ax.set_ylabel(\"y/unit\")\n"
   ]
  },
  {
   "cell_type": "code",
   "execution_count": null,
   "metadata": {},
   "outputs": [],
   "source": [
    "# {\"name\": \"散点\", \"title\": \"创建散点图\"} \n",
    "fig, ax = plt.subplots(figsize=(3.5, 3))\n",
    "\n",
    "_ = ax.scatter(x, y, color='salmon', s=24, label='label')\n",
    "_ = ax.legend(frameon=False, loc=0, title='')\n",
    "\n",
    "ax.set_xlabel(\"x/unit\")\n",
    "ax.set_ylabel(\"y/unit\")\n"
   ]
  },
  {
   "cell_type": "code",
   "execution_count": null,
   "metadata": {},
   "outputs": [],
   "source": [
    "# {\"name\": \"矩阵\", \"title\": \"imshow函数，也可用于热度图，要求输入一个二维数组\"} \n",
    "fig, ax = plt.subplots(figsize=(5,4))\n",
    "im = ax.imshow(array2d, cmap='coolwarm')\n",
    "\n",
    "fig.colorbar(im, \n",
    "             ax=ax, \n",
    "             label='Interactive colorbar', \n",
    "             pad=0.05,\n",
    "             shrink=1.00)\n"
   ]
  },
  {
   "cell_type": "code",
   "execution_count": null,
   "metadata": {},
   "outputs": [],
   "source": [
    "# {\"name\": \"误差折\", \"title\": \"带有误差信息的折线图，支持上下误差不同\"} \n",
    "fig, ax = plt.subplots(figsize=(3.5,3))  \n",
    "\n",
    "ax.errorbar(x, y, yerr, \n",
    "    ls=':',  c='orangered', marker='s', \n",
    "    capsize=4, capthick=2, ecolor='k', \n",
    "    alpha=0.75, label='y data')\n",
    "\n",
    "ax.legend(frameon=False, loc=0)\n",
    "ax.set_xlabel('x / m')\n",
    "ax.set_ylabel(r'y and f', labelpad=-6, y=0.5)\n"
   ]
  },
  {
   "cell_type": "code",
   "execution_count": null,
   "metadata": {},
   "outputs": [],
   "source": [
    "# {\"name\": \"饼图\", \"title\": \"展示数据中各成分的比例\"} \n",
    "fig, ax = plt.subplots(figsize=(3.5, 3))\n",
    "ax.axis(\"off\")\n",
    "\n",
    "# x: 饼图中各成分比例\n",
    "x = [0.3, 0.1, 0.1]  \n",
    "# labels: 饼图中各成分标签\n",
    "labels = ['label 1', \n",
    "          'label 2',\n",
    "          'label 3'] \n",
    "\n",
    "_ = ax.pie(x, labels=labels,  autopct='%1.1f%%',\n",
    "       wedgeprops={\"linewidth\": 1, \"edgecolor\": \"white\"})\n"
   ]
  },
  {
   "cell_type": "code",
   "execution_count": null,
   "metadata": {},
   "outputs": [],
   "source": [
    "# {\"name\": \"直方\", \"title\": \"直方统计分布图\"} \n",
    "fig, ax = plt.subplots(figsize=(3.5, 3))\n",
    "\n",
    "# data1, data2是一维数字列表，且通常长度>1000\n",
    "_ = ax.hist(data1, bins=32, density=True, alpha=0.75, label=\"data 1\")\n",
    "_ = ax.hist(data2, bins=32, density=True, alpha=0.75, label=\"data 2\")\n",
    "\n",
    "ax.set_xlabel(\"x/unit\")\n",
    "ax.set_ylabel(\"density\")\n",
    "\n",
    "_ = ax.legend(frameon=False, loc=0, title='')\n",
    "\n",
    "plt.show()\n"
   ]
  },
  {
   "cell_type": "code",
   "execution_count": null,
   "metadata": {},
   "outputs": [],
   "source": [
    "# {\"name\": \"箱型\", \"title\": \"箱型图，用于可视化多组数据分布情况\"} \n",
    "fig, ax = plt.subplots(figsize=(5,4))\n",
    "\n",
    "# 盒子属性\n",
    "boxprops = dict(\n",
    "    facecolor='#ffaaaa',\n",
    "    lw=1,\n",
    "    color='k'\n",
    ")\n",
    "\n",
    "# 中线属性\n",
    "medianprops = dict(\n",
    "    color='k'\n",
    ")\n",
    "\n",
    "# data是一个2维数字列表\n",
    "_ = ax.boxplot(data, \n",
    "               patch_artist=True,\n",
    "               boxprops=boxprops,\n",
    "               medianprops=medianprops\n",
    "            )\n",
    "\n",
    "ax.set_xticklabels([\"A\", \"B\", \"C\", \"D\"])\n",
    "ax.set_ylabel(\"y / unit\")\n",
    "\n",
    "plt.show()\n"
   ]
  },
  {
   "cell_type": "markdown",
   "metadata": {},
   "source": [
    "## 轴与标签"
   ]
  },
  {
   "cell_type": "code",
   "execution_count": null,
   "metadata": {},
   "outputs": [],
   "source": [
    "# {\"name\": \"轴范围\", \"title\": \"手动设置X/Y轴的上下限\"} \n",
    "ax.set_xlim([x_min, x_max])\n",
    "ax.set_ylim([y_min, y_max])\n"
   ]
  },
  {
   "cell_type": "code",
   "execution_count": null,
   "metadata": {},
   "outputs": [],
   "source": [
    "# {\"name\": \"轴标签\", \"title\": \"设置X/Y轴的标签\"} \n",
    "ax.set_xlabel(\"X / unit\", x=0.5, labelpad=-2, rotation=0)\n",
    "ax.set_ylabel(\"Y / unit\", y=0.5, labelpad=2)\n"
   ]
  },
  {
   "cell_type": "code",
   "execution_count": null,
   "metadata": {},
   "outputs": [],
   "source": [
    "# {\"name\": \"轴刻度\", \"title\": \"设置X/Y轴的刻度位置\"} \n",
    "ax.set_xticks([0, 1, 2, 3])\n",
    "ax.set_yticks([-1, 0, 1, 2, 3])\n"
   ]
  },
  {
   "cell_type": "code",
   "execution_count": null,
   "metadata": {},
   "outputs": [],
   "source": [
    "# {\"name\": \"刻度标签\", \"title\": \"设置X/Y轴的刻度标签\"} \n",
    "# 注意保证 ticklabels 与 ticks 长度一致\n",
    "ax.set_xticklabels([0, 1, 2, 3], color='k')\n",
    "ax.set_yticklabels(['a', 'b', 'c','d','e'], color='k')\n"
   ]
  },
  {
   "cell_type": "code",
   "execution_count": null,
   "metadata": {},
   "outputs": [],
   "source": [
    "# {\"name\": \"轴比例\", \"title\": \"设置Y/X轴比例\"} \n",
    "# aspect = dy/dx\n",
    "ax.set_aspect(aspect = 0.5)\n"
   ]
  },
  {
   "cell_type": "code",
   "execution_count": null,
   "metadata": {},
   "outputs": [],
   "source": [
    "# {\"name\": \"轴分布\", \"title\": \"设置轴刻度的分布，常用线性-linear、指数-log\"} \n",
    "ax.set_yscale(\"log\")\n"
   ]
  },
  {
   "cell_type": "markdown",
   "metadata": {},
   "source": [
    "## 其它常用"
   ]
  },
  {
   "cell_type": "code",
   "execution_count": null,
   "metadata": {},
   "outputs": [],
   "source": [
    "# {\"name\": \"保存\", \"title\": \"保存图片，后缀支持 png,jpg,pdf,eps等\"} \n",
    "# 保存图片 \n",
    "plt.savefig('filename.png', dpi=300, bbox_inches='tight', transparent=False)\n",
    "plt.savefig('filename.eps', bbox_inches='tight', transparent=False)\n"
   ]
  },
  {
   "cell_type": "code",
   "execution_count": null,
   "metadata": {},
   "outputs": [],
   "source": [
    "# {\"name\": \"风格\", \"title\": \"使用不同的绘图样式表\"} \n",
    "# more style: `print(plt.style.available)`\n",
    "plt.style.use('seaborn-v0_8-poster')\n"
   ]
  },
  {
   "cell_type": "code",
   "execution_count": null,
   "metadata": {},
   "outputs": [],
   "source": [
    "# {\"name\": \"图例\", \"title\": \"添加图例\"} \n",
    "ax.legend(frameon=False, fontsize=10,\n",
    "           ncols=2,  columnspacing=1.5,\n",
    "           handlelength=2.0, handletextpad=0.2,\n",
    "           loc=3, bbox_to_anchor=(0.32,0.72))\n"
   ]
  },
  {
   "cell_type": "code",
   "execution_count": null,
   "metadata": {},
   "outputs": [],
   "source": [
    "# {\"name\": \"文本\", \"title\": \"添加文本信息\"} \n",
    "ax.text(0.5, 0.5, \"text here\", fontsize=10)\n"
   ]
  },
  {
   "cell_type": "code",
   "execution_count": null,
   "metadata": {},
   "outputs": [],
   "source": [
    "# {\"name\": \"注解\", \"title\": \"添加注释，相当于 文本+箭头\"} \n",
    "ax.annotate('-|>', xy=(0.1, 0.7), xytext=(0.6, 0.8),\n",
    "            arrowprops={\n",
    "                \"arrowstyle\": '-|>',\n",
    "                \"linewidth\":2,\n",
    "                \"facecolor\": 'k',\n",
    "            })\n"
   ]
  },
  {
   "cell_type": "code",
   "execution_count": null,
   "metadata": {},
   "outputs": [],
   "source": [
    "# {\"name\": \"3D坐标\", \"title\": \"创建3D坐标系\"} \n",
    "fig, ax = plt.subplots(figsize=(3, 2),\n",
    "                        subplot_kw={'projection': '3d'})\n",
    "                        "
   ]
  },
  {
   "cell_type": "code",
   "execution_count": null,
   "metadata": {},
   "outputs": [],
   "source": [
    "# {\"name\": \"区间填充\", \"title\": \"在指定范围内填充颜色\"} \n",
    "_ = ax.fill_between(x, 0, y, alpha=0.5)\n"
   ]
  },
  {
   "cell_type": "code",
   "execution_count": null,
   "metadata": {},
   "outputs": [],
   "source": [
    "# {\"name\": \"方块填充\", \"title\": \"在一段区间内设置背景颜色\"} \n",
    "# axhspan和hlines为水平方向, axhspan和hlines为垂直方向，参数也需要调整为ymin, ymax\n",
    "ax.axhspan(0.7, 0.9, color='lightgray', alpha=0.8)\n",
    "ax.hlines([0.7,0.9], xmin=0, xmax=0.5, lw=1, color='k', alpha=0.8)\n"
   ]
  },
  {
   "cell_type": "code",
   "execution_count": null,
   "metadata": {},
   "outputs": [],
   "source": [
    "# {\"name\": \"多图布局\", \"title\": \"同一个图中并存多个坐标系\"} \n",
    "fig, axs = plt.subplots(nrows=1, ncols=2, \n",
    "                        figsize=(7, 3),\n",
    "                        gridspec_kw={\n",
    "                            \"width_ratios\": [0.5, 0.5],\n",
    "                            \"wspace\": 0.25\n",
    "                        })\n"
   ]
  },
  {
   "cell_type": "code",
   "execution_count": null,
   "metadata": {},
   "outputs": [],
   "source": [
    "# {\"name\": \"背景网格\", \"title\": \"添加背景网格\"} \n",
    "# axis='y'|'x'|'both'\n",
    "ax.grid(True, axis='y', lw=2, ls='--', color='gray', alpha=0.6)\n"
   ]
  }
 ],
 "metadata": {
  "kernelspec": {
   "display_name": "Python 3",
   "language": "python",
   "name": "python3"
  },
  "language_info": {
   "codemirror_mode": {
    "name": "ipython",
    "version": 3
   },
   "file_extension": ".py",
   "mimetype": "text/x-python",
   "name": "python",
   "nbconvert_exporter": "python",
   "pygments_lexer": "ipython3",
   "version": "3.11.7"
  }
 },
 "nbformat": 4,
 "nbformat_minor": 2
}
